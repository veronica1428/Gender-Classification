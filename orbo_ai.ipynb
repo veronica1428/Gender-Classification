{
 "cells": [
  {
   "cell_type": "code",
   "execution_count": 82,
   "metadata": {
    "collapsed": true
   },
   "outputs": [],
   "source": [
    "#Import Packages\n",
    "from sklearn.datasets import load_files\n",
    "from glob import glob\n",
    "#from scipy.misc import imread\n",
    "from sklearn.model_selection import train_test_split\n",
    "\n",
    "import numpy as np\n",
    "import random\n",
    "import pandas as pd\n",
    "import time\n",
    "import cv2\n",
    "import matplotlib.pyplot as plt\n",
    "%matplotlib inline"
   ]
  },
  {
   "cell_type": "code",
   "execution_count": 2,
   "metadata": {
    "collapsed": true
   },
   "outputs": [],
   "source": [
    "FIXED_IMG_SIZE = 227\n",
    "\n",
    "#Load the full dataset, scale the images in values between 0-1 and resize to size 227\n",
    "def load_dataset(path, target):\n",
    "    filenames = glob(path)\n",
    "    \n",
    "    if target == 0:\n",
    "        cls = [1,0] #female - 0\n",
    "    else:\n",
    "        cls = [0,1] #male - 1\n",
    "        \n",
    "    target_array = np.full(shape=(len(filenames),2), fill_value=cls, dtype='float32')\n",
    "    #target_array = np.ndarray((len(filenames),1), target)\n",
    "    \n",
    "    images = [cv2.imread(file) for file in filenames]\n",
    "    images = [cv2.resize(img, (FIXED_IMG_SIZE, FIXED_IMG_SIZE)) for img in images]\n",
    "    \n",
    "    images = np.array(images, dtype = np.uint8)\n",
    "    images = images.astype('float32')\n",
    "    images = np.multiply(images, 1.0/255.0)\n",
    "    \n",
    "    train_x, test_x, train_y, test_y = train_test_split(images, target_array, test_size=0.4)\n",
    "    valid_x, test_x, valid_y, test_y = train_test_split(test_x, test_y, test_size=0.5)\n",
    "        \n",
    "    return train_x, valid_x, test_x, train_y, valid_y, test_y"
   ]
  },
  {
   "cell_type": "code",
   "execution_count": 3,
   "metadata": {},
   "outputs": [
    {
     "name": "stdout",
     "output_type": "stream",
     "text": [
      "Loading Datasets\n",
      "Loaded Female Dataset\n",
      "Loaded Male Dataset\n",
      "Both datasets loaded\n",
      "Number of Training Data: 7936\n",
      "Number of Validation Data: 2646\n",
      "Number of Testing Data: 2647\n"
     ]
    }
   ],
   "source": [
    "print('Loading Datasets')\n",
    "fem_train_x, fem_valid_x, fem_test_x, fem_train_y, fem_valid_y, fem_test_y = female_test = load_dataset('data/female/*', target=1)\n",
    "print('Loaded Female Dataset')\n",
    "\n",
    "male_train_x, male_valid_x, male_test_x, male_train_y, male_valid_y, male_test_y = load_dataset('data/male/*', target=0)\n",
    "print('Loaded Male Dataset')\n",
    "\n",
    "train_len = len(fem_train_x) + len(male_train_x)\n",
    "valid_len = len(fem_valid_x) + len(male_valid_x)\n",
    "test_len = len(fem_test_x) + len(male_test_x)\n",
    "\n",
    "print('Both datasets loaded')\n",
    "print('Number of Training Data: ' + str(train_len))\n",
    "print('Number of Validation Data: ' + str(valid_len))\n",
    "print('Number of Testing Data: ' + str(test_len))"
   ]
  },
  {
   "cell_type": "code",
   "execution_count": 40,
   "metadata": {
    "collapsed": true
   },
   "outputs": [],
   "source": [
    "#Inputs\n",
    "train_x = np.concatenate((fem_train_x, male_train_x), axis=0)\n",
    "valid_x = np.concatenate((fem_valid_x, male_valid_x), axis=0)\n",
    "test_x = np.concatenate((fem_test_x, male_test_x), axis=0)\n",
    "\n",
    "#targets \n",
    "train_y = np.concatenate((fem_train_y, male_train_y), axis=0)\n",
    "valid_y = np.concatenate((fem_valid_y, male_valid_y), axis=0)\n",
    "test_y = np.concatenate((fem_test_y, male_test_y), axis=0)"
   ]
  },
  {
   "cell_type": "code",
   "execution_count": 43,
   "metadata": {
    "collapsed": true
   },
   "outputs": [],
   "source": [
    "import tensorflow as tf\n",
    "def create_weights(shape):\n",
    "    return tf.Variable(tf.truncated_normal(shape, stddev=0.01), name='create_w8')\n",
    "\n",
    "def create_biases(num_filters):\n",
    "    return tf.Variable(tf.zeros(num_filters), name='create_biases') #CHECK WITH NON-ZERO VALUE                       "
   ]
  },
  {
   "cell_type": "code",
   "execution_count": 44,
   "metadata": {
    "collapsed": true
   },
   "outputs": [],
   "source": [
    "def create_conv_layer(input, num_input_channels, filter_size, num_filters, conv_strides=1, conv_padding='SAME'):\n",
    "    #define weights and biases\n",
    "    weights = create_weights(shape=[filter_size, filter_size, num_input_channels, num_filters])\n",
    "    biases = create_biases(num_filters=num_filters)\n",
    "    \n",
    "    #define conv2d layer\n",
    "    conv_layer = tf.nn.conv2d(input=input, filter=weights, strides=[1,conv_strides,conv_strides,1], padding=conv_padding)\n",
    "    conv_layer += biases\n",
    "    \n",
    "    #max pooling layer\n",
    "    conv_layer = tf.nn.max_pool(value=conv_layer, ksize=[1,2,2,1], padding='SAME', strides=[1,2,2,1])\n",
    "    \n",
    "    #relu layer\n",
    "    conv_layer = tf.nn.relu(conv_layer)\n",
    "    \n",
    "    #local response normalization layer\n",
    "    conv_layer = tf.nn.local_response_normalization(conv_layer)\n",
    "    \n",
    "    return conv_layer"
   ]
  },
  {
   "cell_type": "code",
   "execution_count": 45,
   "metadata": {
    "collapsed": true
   },
   "outputs": [],
   "source": [
    "#flatten layer\n",
    "def create_flatten_layer(layer):\n",
    "    layer_shape = layer.get_shape()\n",
    "    num_elements = layer_shape[1:4].num_elements()\n",
    "    layer = tf.reshape(layer, [-1, num_elements])\n",
    "    \n",
    "    return layer"
   ]
  },
  {
   "cell_type": "code",
   "execution_count": 46,
   "metadata": {
    "collapsed": true
   },
   "outputs": [],
   "source": [
    "#create fully connected layers\n",
    "def create_fully_conn_layer(input, num_inputs, num_outputs, use_relu=True, use_dropout=True):\n",
    "    #define weights and biases for fully connected layer\n",
    "    weights = create_weights(shape=[num_inputs, num_outputs])\n",
    "    biases = create_biases(num_outputs)\n",
    "    \n",
    "    fconn_layer = tf.matmul(input, weights) + biases\n",
    "    if use_relu:\n",
    "        fconn_layer = tf.nn.relu(fconn_layer)\n",
    "        \n",
    "    if use_dropout:\n",
    "        fconn_layer = tf.nn.dropout(fconn_layer, keep_prob=0.2)\n",
    "        \n",
    "    return fconn_layer"
   ]
  },
  {
   "cell_type": "code",
   "execution_count": 47,
   "metadata": {
    "collapsed": true
   },
   "outputs": [],
   "source": [
    "# def next_batch(batch_size, data, labels): \n",
    "    \n",
    "#     num_batches = data.shape[0] // batch_size\n",
    "#     print(data.shape[0])\n",
    "    \n",
    "#     data = data[:num_batches*batch_size]\n",
    "#     labels = labels[:num_batches*batch_size]\n",
    "    \n",
    "#     count = 1\n",
    "#     for i in range(0, data.shape[0], batch_size):\n",
    "        \n",
    "#         if count > num_batches:\n",
    "#             count += 1\n",
    "#             i = 0\n",
    "        \n",
    "#         x = data[i : i + batch_size ,:]\n",
    "#         y = np.squeeze(labels[i : i + batch_size ,:], axis=1)\n",
    "        \n",
    "#         count += 1\n",
    "#         yield x, y"
   ]
  },
  {
   "cell_type": "code",
   "execution_count": 48,
   "metadata": {
    "collapsed": true
   },
   "outputs": [],
   "source": [
    "def shuffle_dataset_batch(batch_size, data, labels):\n",
    "    idx = np.arange(0, len(data))\n",
    "    random.shuffle(idx)\n",
    "    idx = idx[:batch_size]\n",
    "    data_shuffle = [data[i] for i in idx]\n",
    "    label_shuffle = [labels[i] for i in idx]\n",
    "    \n",
    "    return np.asarray(data_shuffle), np.asarray(label_shuffle)"
   ]
  },
  {
   "cell_type": "code",
   "execution_count": 79,
   "metadata": {
    "collapsed": true
   },
   "outputs": [],
   "source": [
    "#Global Variables\n",
    "batch_size = 32\n",
    "num_epochs = 10\n",
    "learning_rate=0.05\n",
    "\n",
    "#define placeholders and input\n",
    "num_channels = 3\n",
    "num_classes = 2\n",
    "x = tf.placeholder(dtype=tf.float32, shape=[batch_size, FIXED_IMG_SIZE, FIXED_IMG_SIZE, num_channels], name='x') \n",
    "y_true = tf.placeholder(dtype=tf.float32, shape=[batch_size, num_classes], name='y_true')\n",
    "y_true_cls = tf.argmax(y_true, axis=1)"
   ]
  },
  {
   "cell_type": "code",
   "execution_count": 80,
   "metadata": {},
   "outputs": [
    {
     "name": "stdout",
     "output_type": "stream",
     "text": [
      "(32, 28, 28, 96)\n",
      "(32, 14, 14, 256)\n",
      "(32, 7, 7, 256)\n",
      "(32, 12544)\n",
      "(32, 512)\n",
      "(32, 512)\n",
      "(32, 2)\n"
     ]
    }
   ],
   "source": [
    "#Define Network Architecture\n",
    "\n",
    "layer_conv1 = create_conv_layer(input=x, num_filters = 96, filter_size=7, conv_strides=4, conv_padding='VALID', num_input_channels=num_channels)\n",
    "print(layer_conv1.get_shape())\n",
    "\n",
    "layer_conv2 = create_conv_layer(input=layer_conv1, num_filters = 256, filter_size=5, conv_strides=1, \n",
    "                                conv_padding='SAME', num_input_channels=96)\n",
    "print(layer_conv2.get_shape())\n",
    "\n",
    "layer_conv3 = create_conv_layer(input=layer_conv2, num_filters = 256, filter_size=3, conv_strides=1, \n",
    "                                conv_padding='SAME', num_input_channels=256)\n",
    "print(layer_conv3.get_shape())\n",
    "\n",
    "layer_flat = create_flatten_layer(layer=layer_conv3)\n",
    "print(layer_flat.get_shape())\n",
    "\n",
    "layer_fc1 = create_fully_conn_layer(input=layer_flat, num_inputs=layer_flat.get_shape()[1:4].num_elements(),\n",
    "                                   num_outputs=512)\n",
    "print(layer_fc1.get_shape())\n",
    "\n",
    "layer_fc2 = create_fully_conn_layer(input=layer_fc1, num_inputs=512, num_outputs=512)\n",
    "print(layer_fc2.get_shape())\n",
    "\n",
    "layer_fc3 = create_fully_conn_layer(input=layer_fc2, num_inputs=512, num_outputs=num_classes, \n",
    "                                    use_relu=False, use_dropout=False)\n",
    "print(layer_fc3.get_shape())\n",
    "\n",
    "#softmax layer\n",
    "y_pred = tf.nn.softmax(layer_fc3, name='y_pred')\n",
    "y_pred_cls = tf.argmax(y_pred, axis=1)\n",
    "\n",
    "# #define cost\n",
    "loss = tf.nn.softmax_cross_entropy_with_logits(logits=layer_fc3, labels=y_true)\n",
    "cost = tf.reduce_mean(loss)\n",
    "accuracy = tf.multiply(tf.reduce_mean(tf.cast(tf.equal(y_pred_cls, y_true_cls), tf.float32)), 100)\n",
    "\n",
    "#adam optimisation\n",
    "optimizer = tf.train.AdamOptimizer(learning_rate=learning_rate).minimize(cost) #learning rate variable"
   ]
  },
  {
   "cell_type": "code",
   "execution_count": 94,
   "metadata": {},
   "outputs": [
    {
     "name": "stdout",
     "output_type": "stream",
     "text": [
      "Epoch 1/10 :-------\n",
      "Epoch Time 32.89628338813782 (s):---- Training Loss 57.296974182128906 :------- Training Accuracy 50.0% :------ Validation Loss 61.24652862548828 :------- Validation Accuracy 71.875% :\n",
      "Epoch 2/10 :-------\n",
      "Epoch Time 32.38800287246704 (s):---- Training Loss 3.166057825088501 :------- Training Accuracy 59.375% :------ Validation Loss 3.1524415016174316 :------- Validation Accuracy 75.0% :\n",
      "Epoch 3/10 :-------\n",
      "Epoch Time 32.43212866783142 (s):---- Training Loss 0.600735068321228 :------- Training Accuracy 71.875% :------ Validation Loss 0.5584031343460083 :------- Validation Accuracy 75.0% :\n",
      "Epoch 4/10 :-------\n",
      "Epoch Time 32.40891480445862 (s):---- Training Loss 0.5846430063247681 :------- Training Accuracy 78.125% :------ Validation Loss 0.519645094871521 :------- Validation Accuracy 78.125% :\n",
      "Epoch 5/10 :-------\n",
      "Epoch Time 32.54756498336792 (s):---- Training Loss 0.5847169160842896 :------- Training Accuracy 75.0% :------ Validation Loss 0.7819252014160156 :------- Validation Accuracy 65.625% :\n",
      "Epoch 6/10 :-------\n",
      "Epoch Time 32.494181632995605 (s):---- Training Loss 0.5290142297744751 :------- Training Accuracy 78.125% :------ Validation Loss 0.5525887608528137 :------- Validation Accuracy 78.125% :\n",
      "Epoch 7/10 :-------\n",
      "Epoch Time 32.47302436828613 (s):---- Training Loss 0.4866245985031128 :------- Training Accuracy 81.25% :------ Validation Loss 0.6115458011627197 :------- Validation Accuracy 71.875% :\n",
      "Epoch 8/10 :-------\n",
      "Epoch Time 32.41285228729248 (s):---- Training Loss 0.7826476097106934 :------- Training Accuracy 62.5% :------ Validation Loss 0.6001060009002686 :------- Validation Accuracy 75.0% :\n",
      "Epoch 9/10 :-------\n",
      "Epoch Time 32.606321573257446 (s):---- Training Loss 0.5230891704559326 :------- Training Accuracy 78.125% :------ Validation Loss 0.6164214611053467 :------- Validation Accuracy 71.875% :\n",
      "Model saved in path: saved_model/gender_class_model.ckpt\n"
     ]
    }
   ],
   "source": [
    "#Run Tensorflow session\n",
    "saver = tf.train.Saver()\n",
    "with tf.Session() as sess:\n",
    "    sess.run(tf.global_variables_initializer())\n",
    "    #sess.run(tf.initialize_all_variables()()\n",
    "\n",
    "    epoch_data = []\n",
    "    train_loss_list, valid_loss_list = [], []\n",
    "    for e in range(1, num_epochs):\n",
    "\n",
    "        start_time = time.time()\n",
    "        \n",
    "        num_batches = train_len // batch_size\n",
    "        if num_batches > 10: #limit the number of batches for faster calculations\n",
    "            num_batches = 10\n",
    "        \n",
    "        print('Epoch {}/{} :-------'.format(e, num_epochs))\n",
    "        for batch in range(0, num_batches):\n",
    "            \n",
    "            x_train_batch, y_train_batch = shuffle_dataset_batch(batch_size, data=train_x, labels=train_y)\n",
    "            x_valid_batch, y_valid_batch = shuffle_dataset_batch(batch_size, data=valid_x, labels=valid_y)\n",
    "\n",
    "            feed_dict_train = {x : x_train_batch, y_true : y_train_batch}\n",
    "            feed_dict_valid = {x : x_valid_batch, y_true : y_valid_batch}\n",
    "            sess.run(optimizer, feed_dict=feed_dict_train)\n",
    "            \n",
    "            train_loss = sess.run(cost, feed_dict=feed_dict_train)\n",
    "            #print('Batch {}/{} :-------'.format(batch, num_batches))\n",
    "  \n",
    "        valid_loss = sess.run(cost, feed_dict=feed_dict_valid)\n",
    "\n",
    "        train_accuracy = sess.run(accuracy, feed_dict=feed_dict_train)\n",
    "        valid_accuracy = sess.run(accuracy, feed_dict=feed_dict_valid)\n",
    "\n",
    "        valid_pred = sess.run(y_pred, feed_dict=feed_dict_valid)\n",
    "        valid_true_cls = sess.run(y_true_cls, feed_dict=feed_dict_valid)\n",
    "        valid_predict_cls = sess.run(y_pred_cls, feed_dict=feed_dict_valid)\n",
    "        \n",
    "        end_time = time.time() \n",
    "        \n",
    "        epoch_data.append((valid_pred, valid_predict_cls, valid_true_cls))\n",
    "        \n",
    "        train_loss_list.append(train_loss)\n",
    "        valid_loss_list.append(valid_loss)\n",
    "        print('Epoch Time {} (s):----'.format(end_time - start_time),\n",
    "              'Training Loss {} :-------'.format(train_loss),\n",
    "              'Training Accuracy {}% :------'.format(train_accuracy),\n",
    "              'Validation Loss {} :-------'.format(valid_loss),\n",
    "              'Validation Accuracy {}% :'.format(valid_accuracy))\n",
    "              #'Validation True Class / Pred Class {}/{} :--'.format(valid_true_cls, valid_predict_cls)))\n",
    "    \n",
    "    saved_path = saver.save(sess, 'saved_model/gender_class_model.ckpt')\n",
    "    print('Model saved in path: {}'.format(saved_path))"
   ]
  },
  {
   "cell_type": "code",
   "execution_count": 114,
   "metadata": {},
   "outputs": [
    {
     "name": "stdout",
     "output_type": "stream",
     "text": [
      "INFO:tensorflow:Restoring parameters from saved_model/gender_class_model.ckpt\n"
     ]
    },
    {
     "name": "stderr",
     "output_type": "stream",
     "text": [
      "INFO:tensorflow:Restoring parameters from saved_model/gender_class_model.ckpt\n"
     ]
    },
    {
     "name": "stdout",
     "output_type": "stream",
     "text": [
      "Model restored\n"
     ]
    }
   ],
   "source": [
    "#restore the model\n",
    "with tf.Session() as sess:\n",
    "    \n",
    "    saver.restore(sess, 'saved_model/gender_class_model.ckpt')\n",
    "    print('Model restored')\n",
    "    \n",
    "    output_df = pd.DataFrame()\n",
    "    epoch = epoch_data[len(epoch_data)-1] #Getting the last epoch, last batch data\n",
    "\n",
    "    output_df['Female Prob(0)'] = np.squeeze(epoch[0][:,0])\n",
    "    output_df['Male Prob(1)'] = np.squeeze(epoch[0][:,1])\n",
    "    output_df['Predicted Class'] = np.squeeze(np.expand_dims(epoch[1], axis=1))\n",
    "    output_df['True Class'] = np.squeeze(np.expand_dims(epoch[2], axis=1))\n",
    "    \n",
    "    output_df.to_csv('output.csv')\n",
    "    \n",
    "# #tf.get_variable"
   ]
  },
  {
   "cell_type": "code",
   "execution_count": 115,
   "metadata": {},
   "outputs": [
    {
     "data": {
      "text/plain": [
       "<matplotlib.text.Text at 0x7fa3bbbda0b8>"
      ]
     },
     "execution_count": 115,
     "metadata": {},
     "output_type": "execute_result"
    },
    {
     "data": {
      "image/png": "[encoded data removed]",
      "text/plain": [
       "<matplotlib.figure.Figure at 0x7fa3fd2708d0>"
      ]
     },
     "metadata": {},
     "output_type": "display_data"
    }
   ],
   "source": [
    "#Plot train and validation loss curve to understand the performance of the model\n",
    "plt.plot(range(1,10), train_loss_list, label='Train Loss')\n",
    "plt.plot(range(1,10), valid_loss_list, label='Valid Loss')\n",
    "plt.legend()\n",
    "plt.xlabel('Epochs')\n",
    "plt.ylabel('Cost per epoch')"
   ]
  },
  {
   "cell_type": "code",
   "execution_count": 33,
   "metadata": {},
   "outputs": [
    {
     "data": {
      "image/png": "[encoded data removed]",
      "text/plain": [
       "<matplotlib.figure.Figure at 0x7fb2d9be0e48>"
      ]
     },
     "metadata": {},
     "output_type": "display_data"
    }
   ],
   "source": []
  },
  {
   "cell_type": "code",
   "execution_count": 12,
   "metadata": {
    "collapsed": true
   },
   "outputs": [],
   "source": [
    "#face_cascade = cv2.CascadeClassifier('haarcascade_frontalface_alt.xml')"
   ]
  },
  {
   "cell_type": "code",
   "execution_count": 13,
   "metadata": {
    "collapsed": true
   },
   "outputs": [],
   "source": [
    "#detect human face boundaries\n",
    "# def face_detector(img_path):\n",
    "#     img = cv2.imread(img_path)\n",
    "#     gray = cv2.cvtColor(img, cv2.COLOR_BGR2GRAY)\n",
    "#     faces = face_cascade.detectMultiScale(gray)\n",
    "    \n",
    "#     return len(faces) > 0"
   ]
  },
  {
   "cell_type": "code",
   "execution_count": null,
   "metadata": {
    "collapsed": true
   },
   "outputs": [],
   "source": []
  }
 ],
 "metadata": {
  "kernelspec": {
   "display_name": "Python 3",
   "language": "python",
   "name": "python3"
  },
  "language_info": {
   "codemirror_mode": {
    "name": "ipython",
    "version": 3
   },
   "file_extension": ".py",
   "mimetype": "text/x-python",
   "name": "python",
   "nbconvert_exporter": "python",
   "pygments_lexer": "ipython3",
   "version": "3.6.3"
  }
 },
 "nbformat": 4,
 "nbformat_minor": 2
}
